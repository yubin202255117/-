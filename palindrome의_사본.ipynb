{
  "nbformat": 4,
  "nbformat_minor": 0,
  "metadata": {
    "colab": {
      "provenance": []
    },
    "kernelspec": {
      "name": "python3",
      "display_name": "Python 3"
    },
    "language_info": {
      "name": "python"
    }
  },
  "cells": [
    {
      "cell_type": "code",
      "execution_count": null,
      "metadata": {
        "colab": {
          "base_uri": "https://localhost:8080/"
        },
        "id": "b8qyWF_gr1Go",
        "outputId": "7b8046f2-e8f3-47a3-c05b-b0e2996316bd"
      },
      "outputs": [
        {
          "output_type": "stream",
          "name": "stdout",
          "text": [
            "6\n",
            "2\n",
            "7\n",
            "6\n",
            "7\n",
            "3\n",
            "5\n",
            "10\n",
            "5\n",
            "12\n"
          ]
        }
      ],
      "source": [
        "def longest_palindrome(nums):\n",
        "  palin=[]\n",
        "  for i in range(1,len(nums)-1):\n",
        "    count=1\n",
        "    if i>=len(nums)/2:\n",
        "      p=i-1\n",
        "      q=i+1\n",
        "      for k in range(len(nums)-1-i):\n",
        "        if nums[p]==nums[q]:\n",
        "          count+=2\n",
        "          p-=1\n",
        "          q+=1\n",
        "        else:\n",
        "          break\n",
        "    else:\n",
        "      p=i-1\n",
        "      q=i+1\n",
        "      for k in range(i):\n",
        "        if nums[p]==nums[q]:\n",
        "          count+=2\n",
        "          p-=1\n",
        "          q+=1\n",
        "        else:\n",
        "          break\n",
        "    palin.append(count)\n",
        "\n",
        "  for i in range(0,len(nums)-1):\n",
        "    count=1\n",
        "    p=i-1\n",
        "    q=i+2\n",
        "    if nums[i]==nums[i+1]:\n",
        "      count+=1\n",
        "      if i+1>=len(nums)/2:\n",
        "        for k in range(len(nums)-i-2):\n",
        "          if nums[p]==nums[q]:\n",
        "            count+=2\n",
        "            p-=1\n",
        "            q+=1\n",
        "          else:\n",
        "            break\n",
        "      else:\n",
        "        for k in range(i):\n",
        "          if nums[p]==nums[q]:\n",
        "            count+=2\n",
        "            p-=1\n",
        "            q+=1\n",
        "          else:\n",
        "            break\n",
        "    palin.append(count)\n",
        "\n",
        "  return max(palin)\n",
        "print(longest_palindrome(nums=[2,1,3,1,2,4,4,2,1,2]))\n",
        "print(longest_palindrome(nums=[1,4,2,3,3,1,1,2,5]))\n",
        "print(longest_palindrome(nums=[1,1,1,1,1,1,1]))\n",
        "print(longest_palindrome(nums=[1,2,3,3,2,1,5,5,1]))\n",
        "print(longest_palindrome(nums=[2,2,2,3,2,2,2,1,2,3,5,8]))\n",
        "print(longest_palindrome(nums=[2,1,2,3,4,5,6,7,8,9]))\n",
        "print(longest_palindrome(nums=[1,1,1,1,1,3,3,3,3,34,4,4,4,4,4,45,5,5,7,7,7,8,99,5]))\n",
        "print(longest_palindrome(nums=[1,1,1,1,1,2,2,1,1,1,1]))\n",
        "print(longest_palindrome(nums=[1,1,1,1,1,2]))\n",
        "print(longest_palindrome(nums=[1,1,11,1,1,1,1,1,1,1,3,3,3,33,3,3,3,3,3,3,4,4,4,4,4,4,4,4,4,4,4,4,8,1,8,1,8,1]))"
      ]
    },
    {
      "cell_type": "code",
      "source": [],
      "metadata": {
        "id": "5_6wRj-Lr2iv"
      },
      "execution_count": null,
      "outputs": []
    }
  ]
}